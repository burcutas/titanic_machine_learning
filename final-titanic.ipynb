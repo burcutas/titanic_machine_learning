{
 "cells": [
  {
   "cell_type": "code",
   "execution_count": 1,
   "id": "e17a36ef",
   "metadata": {
    "_cell_guid": "b1076dfc-b9ad-4769-8c92-a6c4dae69d19",
    "_uuid": "8f2839f25d086af736a60e9eeb907d3b93b6e0e5",
    "execution": {
     "iopub.execute_input": "2023-03-21T19:37:55.899508Z",
     "iopub.status.busy": "2023-03-21T19:37:55.898603Z",
     "iopub.status.idle": "2023-03-21T19:37:55.930856Z",
     "shell.execute_reply": "2023-03-21T19:37:55.929692Z"
    },
    "papermill": {
     "duration": 0.049022,
     "end_time": "2023-03-21T19:37:55.933801",
     "exception": false,
     "start_time": "2023-03-21T19:37:55.884779",
     "status": "completed"
    },
    "tags": []
   },
   "outputs": [
    {
     "name": "stdout",
     "output_type": "stream",
     "text": [
      "/kaggle/input/titanic/train.csv\n",
      "/kaggle/input/titanic/test.csv\n",
      "/kaggle/input/titanic/gender_submission.csv\n",
      "/kaggle/input/d/burcutas/titanic/gender_submission.csv\n",
      "/kaggle/input/gender-submission/gender_submission.csv\n"
     ]
    }
   ],
   "source": [
    "# This Python 3 environment comes with many helpful analytics libraries installed\n",
    "# It is defined by the kaggle/python Docker image: https://github.com/kaggle/docker-python\n",
    "# For example, here's several helpful packages to load\n",
    "\n",
    "import numpy as np # linear algebra\n",
    "import pandas as pd # data processing, CSV file I/O (e.g. pd.read_csv)\n",
    "\n",
    "# Input data files are available in the read-only \"../input/\" directory\n",
    "# For example, running this (by clicking run or pressing Shift+Enter) will list all files under the input directory\n",
    "\n",
    "import os\n",
    "for dirname, _, filenames in os.walk('/kaggle/input'):\n",
    "    for filename in filenames:\n",
    "        print(os.path.join(dirname, filename))\n",
    "\n",
    "# You can write up to 20GB to the current directory (/kaggle/working/) that gets preserved as output when you create a version using \"Save & Run All\" \n",
    "# You can also write temporary files to /kaggle/temp/, but they won't be saved outside of the current session"
   ]
  },
  {
   "cell_type": "code",
   "execution_count": 2,
   "id": "b1704c2e",
   "metadata": {
    "execution": {
     "iopub.execute_input": "2023-03-21T19:37:55.956757Z",
     "iopub.status.busy": "2023-03-21T19:37:55.956351Z",
     "iopub.status.idle": "2023-03-21T19:37:55.962530Z",
     "shell.execute_reply": "2023-03-21T19:37:55.961508Z"
    },
    "papermill": {
     "duration": 0.020388,
     "end_time": "2023-03-21T19:37:55.964973",
     "exception": false,
     "start_time": "2023-03-21T19:37:55.944585",
     "status": "completed"
    },
    "tags": []
   },
   "outputs": [],
   "source": [
    "pd.set_option('display.max_columns', None)\n",
    "pd.set_option('display.width', 170)\n",
    "pd.set_option('display.max_rows', None)\n",
    "pd.set_option('display.float_format', lambda x: '%.3f' % x) \n",
    "#warnings.simplefilter(\"ignore\")"
   ]
  },
  {
   "cell_type": "code",
   "execution_count": 3,
   "id": "287dcece",
   "metadata": {
    "execution": {
     "iopub.execute_input": "2023-03-21T19:37:55.989682Z",
     "iopub.status.busy": "2023-03-21T19:37:55.988644Z",
     "iopub.status.idle": "2023-03-21T19:37:56.036717Z",
     "shell.execute_reply": "2023-03-21T19:37:56.035794Z"
    },
    "papermill": {
     "duration": 0.063811,
     "end_time": "2023-03-21T19:37:56.039591",
     "exception": false,
     "start_time": "2023-03-21T19:37:55.975780",
     "status": "completed"
    },
    "tags": []
   },
   "outputs": [
    {
     "data": {
      "text/html": [
       "<div>\n",
       "<style scoped>\n",
       "    .dataframe tbody tr th:only-of-type {\n",
       "        vertical-align: middle;\n",
       "    }\n",
       "\n",
       "    .dataframe tbody tr th {\n",
       "        vertical-align: top;\n",
       "    }\n",
       "\n",
       "    .dataframe thead th {\n",
       "        text-align: right;\n",
       "    }\n",
       "</style>\n",
       "<table border=\"1\" class=\"dataframe\">\n",
       "  <thead>\n",
       "    <tr style=\"text-align: right;\">\n",
       "      <th></th>\n",
       "      <th>PassengerId</th>\n",
       "      <th>Survived</th>\n",
       "      <th>Pclass</th>\n",
       "      <th>Name</th>\n",
       "      <th>Sex</th>\n",
       "      <th>Age</th>\n",
       "      <th>SibSp</th>\n",
       "      <th>Parch</th>\n",
       "      <th>Ticket</th>\n",
       "      <th>Fare</th>\n",
       "      <th>Cabin</th>\n",
       "      <th>Embarked</th>\n",
       "    </tr>\n",
       "  </thead>\n",
       "  <tbody>\n",
       "    <tr>\n",
       "      <th>0</th>\n",
       "      <td>1</td>\n",
       "      <td>0</td>\n",
       "      <td>3</td>\n",
       "      <td>Braund, Mr. Owen Harris</td>\n",
       "      <td>male</td>\n",
       "      <td>22.000</td>\n",
       "      <td>1</td>\n",
       "      <td>0</td>\n",
       "      <td>A/5 21171</td>\n",
       "      <td>7.250</td>\n",
       "      <td>NaN</td>\n",
       "      <td>S</td>\n",
       "    </tr>\n",
       "    <tr>\n",
       "      <th>1</th>\n",
       "      <td>2</td>\n",
       "      <td>1</td>\n",
       "      <td>1</td>\n",
       "      <td>Cumings, Mrs. John Bradley (Florence Briggs Th...</td>\n",
       "      <td>female</td>\n",
       "      <td>38.000</td>\n",
       "      <td>1</td>\n",
       "      <td>0</td>\n",
       "      <td>PC 17599</td>\n",
       "      <td>71.283</td>\n",
       "      <td>C85</td>\n",
       "      <td>C</td>\n",
       "    </tr>\n",
       "    <tr>\n",
       "      <th>2</th>\n",
       "      <td>3</td>\n",
       "      <td>1</td>\n",
       "      <td>3</td>\n",
       "      <td>Heikkinen, Miss. Laina</td>\n",
       "      <td>female</td>\n",
       "      <td>26.000</td>\n",
       "      <td>0</td>\n",
       "      <td>0</td>\n",
       "      <td>STON/O2. 3101282</td>\n",
       "      <td>7.925</td>\n",
       "      <td>NaN</td>\n",
       "      <td>S</td>\n",
       "    </tr>\n",
       "    <tr>\n",
       "      <th>3</th>\n",
       "      <td>4</td>\n",
       "      <td>1</td>\n",
       "      <td>1</td>\n",
       "      <td>Futrelle, Mrs. Jacques Heath (Lily May Peel)</td>\n",
       "      <td>female</td>\n",
       "      <td>35.000</td>\n",
       "      <td>1</td>\n",
       "      <td>0</td>\n",
       "      <td>113803</td>\n",
       "      <td>53.100</td>\n",
       "      <td>C123</td>\n",
       "      <td>S</td>\n",
       "    </tr>\n",
       "    <tr>\n",
       "      <th>4</th>\n",
       "      <td>5</td>\n",
       "      <td>0</td>\n",
       "      <td>3</td>\n",
       "      <td>Allen, Mr. William Henry</td>\n",
       "      <td>male</td>\n",
       "      <td>35.000</td>\n",
       "      <td>0</td>\n",
       "      <td>0</td>\n",
       "      <td>373450</td>\n",
       "      <td>8.050</td>\n",
       "      <td>NaN</td>\n",
       "      <td>S</td>\n",
       "    </tr>\n",
       "  </tbody>\n",
       "</table>\n",
       "</div>"
      ],
      "text/plain": [
       "   PassengerId  Survived  Pclass                                               Name     Sex    Age  SibSp  Parch            Ticket   Fare Cabin Embarked\n",
       "0            1         0       3                            Braund, Mr. Owen Harris    male 22.000      1      0         A/5 21171  7.250   NaN        S\n",
       "1            2         1       1  Cumings, Mrs. John Bradley (Florence Briggs Th...  female 38.000      1      0          PC 17599 71.283   C85        C\n",
       "2            3         1       3                             Heikkinen, Miss. Laina  female 26.000      0      0  STON/O2. 3101282  7.925   NaN        S\n",
       "3            4         1       1       Futrelle, Mrs. Jacques Heath (Lily May Peel)  female 35.000      1      0            113803 53.100  C123        S\n",
       "4            5         0       3                           Allen, Mr. William Henry    male 35.000      0      0            373450  8.050   NaN        S"
      ]
     },
     "execution_count": 3,
     "metadata": {},
     "output_type": "execute_result"
    }
   ],
   "source": [
    "df= pd.read_csv('/kaggle/input/titanic/train.csv')\n",
    "df.head()"
   ]
  },
  {
   "cell_type": "code",
   "execution_count": 4,
   "id": "8cad268e",
   "metadata": {
    "execution": {
     "iopub.execute_input": "2023-03-21T19:37:56.065012Z",
     "iopub.status.busy": "2023-03-21T19:37:56.063909Z",
     "iopub.status.idle": "2023-03-21T19:37:56.092791Z",
     "shell.execute_reply": "2023-03-21T19:37:56.091314Z"
    },
    "papermill": {
     "duration": 0.045316,
     "end_time": "2023-03-21T19:37:56.095774",
     "exception": false,
     "start_time": "2023-03-21T19:37:56.050458",
     "status": "completed"
    },
    "tags": []
   },
   "outputs": [
    {
     "name": "stdout",
     "output_type": "stream",
     "text": [
      "<class 'pandas.core.frame.DataFrame'>\n",
      "RangeIndex: 891 entries, 0 to 890\n",
      "Data columns (total 12 columns):\n",
      " #   Column       Non-Null Count  Dtype  \n",
      "---  ------       --------------  -----  \n",
      " 0   PassengerId  891 non-null    int64  \n",
      " 1   Survived     891 non-null    int64  \n",
      " 2   Pclass       891 non-null    int64  \n",
      " 3   Name         891 non-null    object \n",
      " 4   Sex          891 non-null    object \n",
      " 5   Age          714 non-null    float64\n",
      " 6   SibSp        891 non-null    int64  \n",
      " 7   Parch        891 non-null    int64  \n",
      " 8   Ticket       891 non-null    object \n",
      " 9   Fare         891 non-null    float64\n",
      " 10  Cabin        204 non-null    object \n",
      " 11  Embarked     889 non-null    object \n",
      "dtypes: float64(2), int64(5), object(5)\n",
      "memory usage: 83.7+ KB\n"
     ]
    }
   ],
   "source": [
    "df.info()"
   ]
  },
  {
   "cell_type": "code",
   "execution_count": 5,
   "id": "9d6c8bfe",
   "metadata": {
    "execution": {
     "iopub.execute_input": "2023-03-21T19:37:56.119619Z",
     "iopub.status.busy": "2023-03-21T19:37:56.119246Z",
     "iopub.status.idle": "2023-03-21T19:37:56.125154Z",
     "shell.execute_reply": "2023-03-21T19:37:56.124041Z"
    },
    "papermill": {
     "duration": 0.020444,
     "end_time": "2023-03-21T19:37:56.127528",
     "exception": false,
     "start_time": "2023-03-21T19:37:56.107084",
     "status": "completed"
    },
    "tags": []
   },
   "outputs": [],
   "source": [
    "def get_first_info(X):\n",
    "    print(\"verimizin boyutu:\",X.shape)\n",
    "    print(\"__________________________________________\")\n",
    "    print(X.info())\n",
    "    print(\"__________________________________________\")\n",
    "    print(X.describe().T)"
   ]
  },
  {
   "cell_type": "code",
   "execution_count": 6,
   "id": "da4eca26",
   "metadata": {
    "execution": {
     "iopub.execute_input": "2023-03-21T19:37:56.151075Z",
     "iopub.status.busy": "2023-03-21T19:37:56.150610Z",
     "iopub.status.idle": "2023-03-21T19:37:56.190202Z",
     "shell.execute_reply": "2023-03-21T19:37:56.188752Z"
    },
    "papermill": {
     "duration": 0.054402,
     "end_time": "2023-03-21T19:37:56.192917",
     "exception": false,
     "start_time": "2023-03-21T19:37:56.138515",
     "status": "completed"
    },
    "tags": []
   },
   "outputs": [
    {
     "name": "stdout",
     "output_type": "stream",
     "text": [
      "verimizin boyutu: (891, 12)\n",
      "__________________________________________\n",
      "<class 'pandas.core.frame.DataFrame'>\n",
      "RangeIndex: 891 entries, 0 to 890\n",
      "Data columns (total 12 columns):\n",
      " #   Column       Non-Null Count  Dtype  \n",
      "---  ------       --------------  -----  \n",
      " 0   PassengerId  891 non-null    int64  \n",
      " 1   Survived     891 non-null    int64  \n",
      " 2   Pclass       891 non-null    int64  \n",
      " 3   Name         891 non-null    object \n",
      " 4   Sex          891 non-null    object \n",
      " 5   Age          714 non-null    float64\n",
      " 6   SibSp        891 non-null    int64  \n",
      " 7   Parch        891 non-null    int64  \n",
      " 8   Ticket       891 non-null    object \n",
      " 9   Fare         891 non-null    float64\n",
      " 10  Cabin        204 non-null    object \n",
      " 11  Embarked     889 non-null    object \n",
      "dtypes: float64(2), int64(5), object(5)\n",
      "memory usage: 83.7+ KB\n",
      "None\n",
      "__________________________________________\n",
      "              count    mean     std   min     25%     50%     75%     max\n",
      "PassengerId 891.000 446.000 257.354 1.000 223.500 446.000 668.500 891.000\n",
      "Survived    891.000   0.384   0.487 0.000   0.000   0.000   1.000   1.000\n",
      "Pclass      891.000   2.309   0.836 1.000   2.000   3.000   3.000   3.000\n",
      "Age         714.000  29.699  14.526 0.420  20.125  28.000  38.000  80.000\n",
      "SibSp       891.000   0.523   1.103 0.000   0.000   0.000   1.000   8.000\n",
      "Parch       891.000   0.382   0.806 0.000   0.000   0.000   0.000   6.000\n",
      "Fare        891.000  32.204  49.693 0.000   7.910  14.454  31.000 512.329\n"
     ]
    }
   ],
   "source": [
    "get_first_info(df)"
   ]
  },
  {
   "cell_type": "code",
   "execution_count": 7,
   "id": "7a5746e9",
   "metadata": {
    "execution": {
     "iopub.execute_input": "2023-03-21T19:37:56.217646Z",
     "iopub.status.busy": "2023-03-21T19:37:56.217261Z",
     "iopub.status.idle": "2023-03-21T19:37:56.226550Z",
     "shell.execute_reply": "2023-03-21T19:37:56.225545Z"
    },
    "papermill": {
     "duration": 0.024639,
     "end_time": "2023-03-21T19:37:56.228746",
     "exception": false,
     "start_time": "2023-03-21T19:37:56.204107",
     "status": "completed"
    },
    "tags": []
   },
   "outputs": [],
   "source": [
    "def grab_col_names(dataframe,cat_upper_limit=10 ,cardinal_lower_limit = 20): \n",
    "    \"\"\" \n",
    "    This function helps to determine types of columns. Numerical,Categorical,Cardinal \n",
    "    Parameters: dataframe = DataFrame \n",
    "    cat_upper_limit = upper limit of categorical columns's number of unique ->values 10 inital value\n",
    "    cardinal_lowe_limit = lower limit to classify a column as cardinal -> 20 initial value\n",
    "    Return: \n",
    "    cat_cols: includes categorical names but also includes encoding columns or has less unique value than cat_lower_limit\n",
    "    num_cols: includes  names of numerical columns \n",
    "    cardinal_cols : includes names of cardinal columns.In other words,columns which does not carry information. \n",
    "    \"\"\"  \n",
    "    # cat_cols, cat_but_car\n",
    "    cat_cols = [col for col in dataframe.columns if dataframe[col].dtypes == \"O\"]\n",
    "    num_but_cat = [col for col in dataframe.columns if dataframe[col].nunique() < cat_upper_limit and \n",
    "                   dataframe[col].dtypes != \"O\"]\n",
    "    cat_but_car = [col for col in dataframe.columns if dataframe[col].nunique() > cardinal_lower_limit and \n",
    "                   dataframe[col].dtypes == \"O\"]\n",
    "    cat_cols = cat_cols + num_but_cat\n",
    "    cat_cols = [col for col in cat_cols if col not in cat_but_car]\n",
    "\n",
    "    # num_cols\n",
    "    num_cols = [col for col in dataframe.columns if dataframe[col].dtypes != \"O\"]\n",
    "    num_cols = [col for col in num_cols if col not in num_but_cat]\n",
    " \n",
    "    return cat_cols,num_cols,cat_but_car"
   ]
  },
  {
   "cell_type": "code",
   "execution_count": 8,
   "id": "28fad7c8",
   "metadata": {
    "execution": {
     "iopub.execute_input": "2023-03-21T19:37:56.253123Z",
     "iopub.status.busy": "2023-03-21T19:37:56.252689Z",
     "iopub.status.idle": "2023-03-21T19:37:56.264203Z",
     "shell.execute_reply": "2023-03-21T19:37:56.263002Z"
    },
    "papermill": {
     "duration": 0.026577,
     "end_time": "2023-03-21T19:37:56.266796",
     "exception": false,
     "start_time": "2023-03-21T19:37:56.240219",
     "status": "completed"
    },
    "tags": []
   },
   "outputs": [],
   "source": [
    "cat_cols,num_cols,cardinal_cols = grab_col_names(df)"
   ]
  },
  {
   "cell_type": "code",
   "execution_count": 9,
   "id": "d2242d19",
   "metadata": {
    "execution": {
     "iopub.execute_input": "2023-03-21T19:37:56.291207Z",
     "iopub.status.busy": "2023-03-21T19:37:56.290396Z",
     "iopub.status.idle": "2023-03-21T19:37:56.296185Z",
     "shell.execute_reply": "2023-03-21T19:37:56.295227Z"
    },
    "papermill": {
     "duration": 0.021685,
     "end_time": "2023-03-21T19:37:56.299368",
     "exception": false,
     "start_time": "2023-03-21T19:37:56.277683",
     "status": "completed"
    },
    "tags": []
   },
   "outputs": [
    {
     "name": "stdout",
     "output_type": "stream",
     "text": [
      "['Sex', 'Embarked', 'Survived', 'Pclass', 'SibSp', 'Parch'] ['PassengerId', 'Age', 'Fare'] ['Name', 'Ticket', 'Cabin']\n"
     ]
    }
   ],
   "source": [
    "print(cat_cols,num_cols,cardinal_cols)"
   ]
  },
  {
   "cell_type": "code",
   "execution_count": 10,
   "id": "8defae60",
   "metadata": {
    "execution": {
     "iopub.execute_input": "2023-03-21T19:37:56.324782Z",
     "iopub.status.busy": "2023-03-21T19:37:56.324388Z",
     "iopub.status.idle": "2023-03-21T19:37:57.484411Z",
     "shell.execute_reply": "2023-03-21T19:37:57.483116Z"
    },
    "papermill": {
     "duration": 1.176043,
     "end_time": "2023-03-21T19:37:57.487482",
     "exception": false,
     "start_time": "2023-03-21T19:37:56.311439",
     "status": "completed"
    },
    "tags": []
   },
   "outputs": [],
   "source": [
    "import seaborn as sns\n",
    "import matplotlib.pyplot as plt\n",
    "def plot_data(df,num_cols,cat_cols): \n",
    "    for col in cat_cols:  \n",
    "        sns.countplot(x=df[col],data=df) \n",
    "        plt.title(col) \n",
    "        plt.show() \n",
    "        print(\"---------------------------------------------------------------------------\") \n",
    "\n",
    "    for col in num_cols: \n",
    "        df[col].hist() \n",
    "        plt.title(col) \n",
    "        print(\"-------------------------------------------------------------------------------\") \n",
    "        plt.show()\n"
   ]
  },
  {
   "cell_type": "code",
   "execution_count": 11,
   "id": "34112e80",
   "metadata": {
    "execution": {
     "iopub.execute_input": "2023-03-21T19:37:57.511214Z",
     "iopub.status.busy": "2023-03-21T19:37:57.510796Z",
     "iopub.status.idle": "2023-03-21T19:37:59.451376Z",
     "shell.execute_reply": "2023-03-21T19:37:59.450107Z"
    },
    "papermill": {
     "duration": 1.955477,
     "end_time": "2023-03-21T19:37:59.454077",
     "exception": false,
     "start_time": "2023-03-21T19:37:57.498600",
     "status": "completed"
    },
    "tags": []
   },
   "outputs": [
    {
     "data": {
      "image/png": "[encoded data removed]",
      "text/plain": [
       "<Figure size 640x480 with 1 Axes>"
      ]
     },
     "metadata": {},
     "output_type": "display_data"
    },
    {
     "name": "stdout",
     "output_type": "stream",
     "text": [
      "---------------------------------------------------------------------------\n"
     ]
    },
    {
     "data": {
      "image/png": "[encoded data removed]",
      "text/plain": [
       "<Figure size 640x480 with 1 Axes>"
      ]
     },
     "metadata": {},
     "output_type": "display_data"
    },
    {
     "name": "stdout",
     "output_type": "stream",
     "text": [
      "---------------------------------------------------------------------------\n"
     ]
    },
    {
     "data": {
      "image/png": "[encoded data removed]",
      "text/plain": [
       "<Figure size 640x480 with 1 Axes>"
      ]
     },
     "metadata": {},
     "output_type": "display_data"
    },
    {
     "name": "stdout",
     "output_type": "stream",
     "text": [
      "---------------------------------------------------------------------------\n"
     ]
    },
    {
     "data": {
      "image/png": "[encoded data removed]",
      "text/plain": [
       "<Figure size 640x480 with 1 Axes>"
      ]
     },
     "metadata": {},
     "output_type": "display_data"
    },
    {
     "name": "stdout",
     "output_type": "stream",
     "text": [
      "---------------------------------------------------------------------------\n"
     ]
    },
    {
     "data": {
      "image/png": "[encoded data removed]",
      "text/plain": [
       "<Figure size 640x480 with 1 Axes>"
      ]
     },
     "metadata": {},
     "output_type": "display_data"
    },
    {
     "name": "stdout",
     "output_type": "stream",
     "text": [
      "---------------------------------------------------------------------------\n"
     ]
    },
    {
     "data": {
      "image/png": "[encoded data removed]",
      "text/plain": [
       "<Figure size 640x480 with 1 Axes>"
      ]
     },
     "metadata": {},
     "output_type": "display_data"
    },
    {
     "name": "stdout",
     "output_type": "stream",
     "text": [
      "---------------------------------------------------------------------------\n",
      "-------------------------------------------------------------------------------\n"
     ]
    },
    {
     "data": {
      "image/png": "[encoded data removed]",
      "text/plain": [
       "<Figure size 640x480 with 1 Axes>"
      ]
     },
     "metadata": {},
     "output_type": "display_data"
    },
    {
     "name": "stdout",
     "output_type": "stream",
     "text": [
      "-------------------------------------------------------------------------------\n"
     ]
    },
    {
     "data": {
      "image/png": "[encoded data removed]",
      "text/plain": [
       "<Figure size 640x480 with 1 Axes>"
      ]
     },
     "metadata": {},
     "output_type": "display_data"
    },
    {
     "name": "stdout",
     "output_type": "stream",
     "text": [
      "-------------------------------------------------------------------------------\n"
     ]
    },
    {
     "data": {
      "image/png": "[encoded data removed]",
      "text/plain": [
       "<Figure size 640x480 with 1 Axes>"
      ]
     },
     "metadata": {},
     "output_type": "display_data"
    }
   ],
   "source": [
    "plot_data(df,num_cols,cat_cols)"
   ]
  },
  {
   "cell_type": "code",
   "execution_count": 12,
   "id": "9511c51c",
   "metadata": {
    "execution": {
     "iopub.execute_input": "2023-03-21T19:37:59.485936Z",
     "iopub.status.busy": "2023-03-21T19:37:59.484972Z",
     "iopub.status.idle": "2023-03-21T19:37:59.492514Z",
     "shell.execute_reply": "2023-03-21T19:37:59.491213Z"
    },
    "papermill": {
     "duration": 0.026414,
     "end_time": "2023-03-21T19:37:59.494947",
     "exception": false,
     "start_time": "2023-03-21T19:37:59.468533",
     "status": "completed"
    },
    "tags": []
   },
   "outputs": [
    {
     "data": {
      "text/plain": [
       "Index(['PassengerId', 'Survived', 'Pclass', 'Name', 'Sex', 'Age', 'SibSp', 'Parch', 'Ticket', 'Fare', 'Cabin', 'Embarked'], dtype='object')"
      ]
     },
     "execution_count": 12,
     "metadata": {},
     "output_type": "execute_result"
    }
   ],
   "source": [
    "df.columns"
   ]
  },
  {
   "cell_type": "code",
   "execution_count": 14,
   "id": "85ff6685",
   "metadata": {
    "execution": {
     "iopub.execute_input": "2023-03-21T19:37:59.563764Z",
     "iopub.status.busy": "2023-03-21T19:37:59.563336Z",
     "iopub.status.idle": "2023-03-21T19:38:00.176899Z",
     "shell.execute_reply": "2023-03-21T19:38:00.175928Z"
    },
    "papermill": {
     "duration": 0.631669,
     "end_time": "2023-03-21T19:38:00.179224",
     "exception": false,
     "start_time": "2023-03-21T19:37:59.547555",
     "status": "completed"
    },
    "tags": []
   },
   "outputs": [
    {
     "data": {
      "text/plain": [
       "<AxesSubplot:>"
      ]
     },
     "execution_count": 14,
     "metadata": {},
     "output_type": "execute_result"
    },
    {
     "data": {
      "image/png": "[encoded data removed]",
      "text/plain": [
       "<Figure size 800x800 with 2 Axes>"
      ]
     },
     "metadata": {},
     "output_type": "display_data"
    }
   ],
   "source": [
    "corr = df.corr()  \n",
    "fig, ax = plt.subplots(figsize=(8,8)) \n",
    "sns.heatmap(corr,annot=True)"
   ]
  },
  {
   "cell_type": "code",
   "execution_count": 15,
   "id": "89ce0caf",
   "metadata": {
    "execution": {
     "iopub.execute_input": "2023-03-21T19:38:00.213189Z",
     "iopub.status.busy": "2023-03-21T19:38:00.212437Z",
     "iopub.status.idle": "2023-03-21T19:38:00.219486Z",
     "shell.execute_reply": "2023-03-21T19:38:00.218123Z"
    },
    "papermill": {
     "duration": 0.027373,
     "end_time": "2023-03-21T19:38:00.222369",
     "exception": false,
     "start_time": "2023-03-21T19:38:00.194996",
     "status": "completed"
    },
    "tags": []
   },
   "outputs": [],
   "source": [
    "def Drop_High_Corr(df,corr_level=0.80) : \n",
    "    # Create correlation matrix\n",
    "    corr_matrix = df.corr().abs()\n",
    "\n",
    "    # Select upper triangle of correlation matrix\n",
    "    upper = corr_matrix.where(np.triu(np.ones(corr_matrix.shape), k=1).astype(np.bool))\n",
    "\n",
    "    # Find features with correlation greater than cor level\n",
    "    to_drop = [column for column in upper.columns if any(upper[column] > corr_level)]\n",
    "\n",
    "    # Drop features \n",
    "    df.drop(to_drop, axis=1, inplace=True)"
   ]
  },
  {
   "cell_type": "code",
   "execution_count": 16,
   "id": "9842bde3",
   "metadata": {
    "execution": {
     "iopub.execute_input": "2023-03-21T19:38:00.255220Z",
     "iopub.status.busy": "2023-03-21T19:38:00.254778Z",
     "iopub.status.idle": "2023-03-21T19:38:00.268044Z",
     "shell.execute_reply": "2023-03-21T19:38:00.266553Z"
    },
    "papermill": {
     "duration": 0.033558,
     "end_time": "2023-03-21T19:38:00.271556",
     "exception": false,
     "start_time": "2023-03-21T19:38:00.237998",
     "status": "completed"
    },
    "tags": []
   },
   "outputs": [
    {
     "name": "stderr",
     "output_type": "stream",
     "text": [
      "/opt/conda/lib/python3.7/site-packages/ipykernel_launcher.py:6: DeprecationWarning: `np.bool` is a deprecated alias for the builtin `bool`. To silence this warning, use `bool` by itself. Doing this will not modify any behavior and is safe. If you specifically wanted the numpy scalar type, use `np.bool_` here.\n",
      "Deprecated in NumPy 1.20; for more details and guidance: https://numpy.org/devdocs/release/1.20.0-notes.html#deprecations\n",
      "  \n"
     ]
    }
   ],
   "source": [
    "Drop_High_Corr(df,corr_level=0.80)"
   ]
  },
  {
   "cell_type": "code",
   "execution_count": 17,
   "id": "8453dc40",
   "metadata": {
    "execution": {
     "iopub.execute_input": "2023-03-21T19:38:00.305506Z",
     "iopub.status.busy": "2023-03-21T19:38:00.305043Z",
     "iopub.status.idle": "2023-03-21T19:38:00.312563Z",
     "shell.execute_reply": "2023-03-21T19:38:00.311556Z"
    },
    "papermill": {
     "duration": 0.026612,
     "end_time": "2023-03-21T19:38:00.314806",
     "exception": false,
     "start_time": "2023-03-21T19:38:00.288194",
     "status": "completed"
    },
    "tags": []
   },
   "outputs": [
    {
     "data": {
      "text/plain": [
       "Index(['PassengerId', 'Survived', 'Pclass', 'Name', 'Sex', 'Age', 'SibSp', 'Parch', 'Ticket', 'Fare', 'Cabin', 'Embarked'], dtype='object')"
      ]
     },
     "execution_count": 17,
     "metadata": {},
     "output_type": "execute_result"
    }
   ],
   "source": [
    "df.columns"
   ]
  },
  {
   "cell_type": "code",
   "execution_count": 18,
   "id": "92ce1775",
   "metadata": {
    "execution": {
     "iopub.execute_input": "2023-03-21T19:38:00.349120Z",
     "iopub.status.busy": "2023-03-21T19:38:00.348050Z",
     "iopub.status.idle": "2023-03-21T19:38:00.357533Z",
     "shell.execute_reply": "2023-03-21T19:38:00.356298Z"
    },
    "papermill": {
     "duration": 0.029547,
     "end_time": "2023-03-21T19:38:00.360072",
     "exception": false,
     "start_time": "2023-03-21T19:38:00.330525",
     "status": "completed"
    },
    "tags": []
   },
   "outputs": [
    {
     "data": {
      "text/plain": [
       "PassengerId      0\n",
       "Survived         0\n",
       "Pclass           0\n",
       "Name             0\n",
       "Sex              0\n",
       "Age            177\n",
       "SibSp            0\n",
       "Parch            0\n",
       "Ticket           0\n",
       "Fare             0\n",
       "Cabin          687\n",
       "Embarked         2\n",
       "dtype: int64"
      ]
     },
     "execution_count": 18,
     "metadata": {},
     "output_type": "execute_result"
    }
   ],
   "source": [
    "df.isna().sum()"
   ]
  },
  {
   "cell_type": "code",
   "execution_count": 19,
   "id": "d99a2bc6",
   "metadata": {
    "execution": {
     "iopub.execute_input": "2023-03-21T19:38:00.394690Z",
     "iopub.status.busy": "2023-03-21T19:38:00.393344Z",
     "iopub.status.idle": "2023-03-21T19:38:00.402068Z",
     "shell.execute_reply": "2023-03-21T19:38:00.400667Z"
    },
    "papermill": {
     "duration": 0.029228,
     "end_time": "2023-03-21T19:38:00.405237",
     "exception": false,
     "start_time": "2023-03-21T19:38:00.376009",
     "status": "completed"
    },
    "tags": []
   },
   "outputs": [],
   "source": [
    "df[\"Age\"].fillna(df[\"Age\"].median(),inplace=True)"
   ]
  },
  {
   "cell_type": "code",
   "execution_count": 20,
   "id": "69d35899",
   "metadata": {
    "execution": {
     "iopub.execute_input": "2023-03-21T19:38:00.439713Z",
     "iopub.status.busy": "2023-03-21T19:38:00.439316Z",
     "iopub.status.idle": "2023-03-21T19:38:00.445676Z",
     "shell.execute_reply": "2023-03-21T19:38:00.444252Z"
    },
    "papermill": {
     "duration": 0.02653,
     "end_time": "2023-03-21T19:38:00.448308",
     "exception": false,
     "start_time": "2023-03-21T19:38:00.421778",
     "status": "completed"
    },
    "tags": []
   },
   "outputs": [],
   "source": [
    "df[\"Age\"].fillna(df[\"Age\"].median(),inplace=True)"
   ]
  },
  {
   "cell_type": "code",
   "execution_count": 21,
   "id": "a2e8b9df",
   "metadata": {
    "execution": {
     "iopub.execute_input": "2023-03-21T19:38:00.484094Z",
     "iopub.status.busy": "2023-03-21T19:38:00.483375Z",
     "iopub.status.idle": "2023-03-21T19:38:00.489404Z",
     "shell.execute_reply": "2023-03-21T19:38:00.488365Z"
    },
    "papermill": {
     "duration": 0.026832,
     "end_time": "2023-03-21T19:38:00.491776",
     "exception": false,
     "start_time": "2023-03-21T19:38:00.464944",
     "status": "completed"
    },
    "tags": []
   },
   "outputs": [],
   "source": [
    "#df[\"Embarked\"].head()\n",
    "df[\"Embarked\"].fillna(\"S\",inplace=True)"
   ]
  },
  {
   "cell_type": "code",
   "execution_count": 22,
   "id": "cc610474",
   "metadata": {
    "execution": {
     "iopub.execute_input": "2023-03-21T19:38:00.526425Z",
     "iopub.status.busy": "2023-03-21T19:38:00.525214Z",
     "iopub.status.idle": "2023-03-21T19:38:00.534592Z",
     "shell.execute_reply": "2023-03-21T19:38:00.533414Z"
    },
    "papermill": {
     "duration": 0.029608,
     "end_time": "2023-03-21T19:38:00.537429",
     "exception": false,
     "start_time": "2023-03-21T19:38:00.507821",
     "status": "completed"
    },
    "tags": []
   },
   "outputs": [
    {
     "data": {
      "text/plain": [
       "PassengerId      0\n",
       "Survived         0\n",
       "Pclass           0\n",
       "Name             0\n",
       "Sex              0\n",
       "Age              0\n",
       "SibSp            0\n",
       "Parch            0\n",
       "Ticket           0\n",
       "Fare             0\n",
       "Cabin          687\n",
       "Embarked         0\n",
       "dtype: int64"
      ]
     },
     "execution_count": 22,
     "metadata": {},
     "output_type": "execute_result"
    }
   ],
   "source": [
    "df.isna().sum()"
   ]
  },
  {
   "cell_type": "code",
   "execution_count": 23,
   "id": "905c6e20",
   "metadata": {
    "execution": {
     "iopub.execute_input": "2023-03-21T19:38:00.571529Z",
     "iopub.status.busy": "2023-03-21T19:38:00.571148Z",
     "iopub.status.idle": "2023-03-21T19:38:00.576776Z",
     "shell.execute_reply": "2023-03-21T19:38:00.575866Z"
    },
    "papermill": {
     "duration": 0.025938,
     "end_time": "2023-03-21T19:38:00.579381",
     "exception": false,
     "start_time": "2023-03-21T19:38:00.553443",
     "status": "completed"
    },
    "tags": []
   },
   "outputs": [],
   "source": [
    "df.drop(['Cabin'], axis = 1, inplace = True)"
   ]
  },
  {
   "cell_type": "code",
   "execution_count": 24,
   "id": "9178f1fc",
   "metadata": {
    "execution": {
     "iopub.execute_input": "2023-03-21T19:38:00.613737Z",
     "iopub.status.busy": "2023-03-21T19:38:00.612568Z",
     "iopub.status.idle": "2023-03-21T19:38:00.622383Z",
     "shell.execute_reply": "2023-03-21T19:38:00.621313Z"
    },
    "papermill": {
     "duration": 0.029371,
     "end_time": "2023-03-21T19:38:00.624741",
     "exception": false,
     "start_time": "2023-03-21T19:38:00.595370",
     "status": "completed"
    },
    "tags": []
   },
   "outputs": [
    {
     "data": {
      "text/plain": [
       "PassengerId    0\n",
       "Survived       0\n",
       "Pclass         0\n",
       "Name           0\n",
       "Sex            0\n",
       "Age            0\n",
       "SibSp          0\n",
       "Parch          0\n",
       "Ticket         0\n",
       "Fare           0\n",
       "Embarked       0\n",
       "dtype: int64"
      ]
     },
     "execution_count": 24,
     "metadata": {},
     "output_type": "execute_result"
    }
   ],
   "source": [
    "df.isna().sum()"
   ]
  },
  {
   "cell_type": "code",
   "execution_count": 25,
   "id": "b0dcb412",
   "metadata": {
    "execution": {
     "iopub.execute_input": "2023-03-21T19:38:00.659493Z",
     "iopub.status.busy": "2023-03-21T19:38:00.658298Z",
     "iopub.status.idle": "2023-03-21T19:38:00.828837Z",
     "shell.execute_reply": "2023-03-21T19:38:00.827678Z"
    },
    "papermill": {
     "duration": 0.190466,
     "end_time": "2023-03-21T19:38:00.831634",
     "exception": false,
     "start_time": "2023-03-21T19:38:00.641168",
     "status": "completed"
    },
    "tags": []
   },
   "outputs": [],
   "source": [
    "from sklearn.preprocessing import StandardScaler "
   ]
  },
  {
   "cell_type": "code",
   "execution_count": 26,
   "id": "54cc9f01",
   "metadata": {
    "execution": {
     "iopub.execute_input": "2023-03-21T19:38:00.865625Z",
     "iopub.status.busy": "2023-03-21T19:38:00.865223Z",
     "iopub.status.idle": "2023-03-21T19:38:00.887656Z",
     "shell.execute_reply": "2023-03-21T19:38:00.886192Z"
    },
    "papermill": {
     "duration": 0.042109,
     "end_time": "2023-03-21T19:38:00.890155",
     "exception": false,
     "start_time": "2023-03-21T19:38:00.848046",
     "status": "completed"
    },
    "tags": []
   },
   "outputs": [
    {
     "data": {
      "text/html": [
       "<div>\n",
       "<style scoped>\n",
       "    .dataframe tbody tr th:only-of-type {\n",
       "        vertical-align: middle;\n",
       "    }\n",
       "\n",
       "    .dataframe tbody tr th {\n",
       "        vertical-align: top;\n",
       "    }\n",
       "\n",
       "    .dataframe thead th {\n",
       "        text-align: right;\n",
       "    }\n",
       "</style>\n",
       "<table border=\"1\" class=\"dataframe\">\n",
       "  <thead>\n",
       "    <tr style=\"text-align: right;\">\n",
       "      <th></th>\n",
       "      <th>PassengerId</th>\n",
       "      <th>Survived</th>\n",
       "      <th>Pclass</th>\n",
       "      <th>Name</th>\n",
       "      <th>Sex</th>\n",
       "      <th>Age</th>\n",
       "      <th>SibSp</th>\n",
       "      <th>Parch</th>\n",
       "      <th>Ticket</th>\n",
       "      <th>Fare</th>\n",
       "      <th>Embarked</th>\n",
       "    </tr>\n",
       "  </thead>\n",
       "  <tbody>\n",
       "    <tr>\n",
       "      <th>0</th>\n",
       "      <td>-1.730</td>\n",
       "      <td>0</td>\n",
       "      <td>3</td>\n",
       "      <td>Braund, Mr. Owen Harris</td>\n",
       "      <td>male</td>\n",
       "      <td>-0.566</td>\n",
       "      <td>1</td>\n",
       "      <td>0</td>\n",
       "      <td>A/5 21171</td>\n",
       "      <td>-0.502</td>\n",
       "      <td>S</td>\n",
       "    </tr>\n",
       "    <tr>\n",
       "      <th>1</th>\n",
       "      <td>-1.726</td>\n",
       "      <td>1</td>\n",
       "      <td>1</td>\n",
       "      <td>Cumings, Mrs. John Bradley (Florence Briggs Th...</td>\n",
       "      <td>female</td>\n",
       "      <td>0.664</td>\n",
       "      <td>1</td>\n",
       "      <td>0</td>\n",
       "      <td>PC 17599</td>\n",
       "      <td>0.787</td>\n",
       "      <td>C</td>\n",
       "    </tr>\n",
       "    <tr>\n",
       "      <th>2</th>\n",
       "      <td>-1.722</td>\n",
       "      <td>1</td>\n",
       "      <td>3</td>\n",
       "      <td>Heikkinen, Miss. Laina</td>\n",
       "      <td>female</td>\n",
       "      <td>-0.258</td>\n",
       "      <td>0</td>\n",
       "      <td>0</td>\n",
       "      <td>STON/O2. 3101282</td>\n",
       "      <td>-0.489</td>\n",
       "      <td>S</td>\n",
       "    </tr>\n",
       "    <tr>\n",
       "      <th>3</th>\n",
       "      <td>-1.718</td>\n",
       "      <td>1</td>\n",
       "      <td>1</td>\n",
       "      <td>Futrelle, Mrs. Jacques Heath (Lily May Peel)</td>\n",
       "      <td>female</td>\n",
       "      <td>0.433</td>\n",
       "      <td>1</td>\n",
       "      <td>0</td>\n",
       "      <td>113803</td>\n",
       "      <td>0.421</td>\n",
       "      <td>S</td>\n",
       "    </tr>\n",
       "    <tr>\n",
       "      <th>4</th>\n",
       "      <td>-1.715</td>\n",
       "      <td>0</td>\n",
       "      <td>3</td>\n",
       "      <td>Allen, Mr. William Henry</td>\n",
       "      <td>male</td>\n",
       "      <td>0.433</td>\n",
       "      <td>0</td>\n",
       "      <td>0</td>\n",
       "      <td>373450</td>\n",
       "      <td>-0.486</td>\n",
       "      <td>S</td>\n",
       "    </tr>\n",
       "  </tbody>\n",
       "</table>\n",
       "</div>"
      ],
      "text/plain": [
       "   PassengerId  Survived  Pclass                                               Name     Sex    Age  SibSp  Parch            Ticket   Fare Embarked\n",
       "0       -1.730         0       3                            Braund, Mr. Owen Harris    male -0.566      1      0         A/5 21171 -0.502        S\n",
       "1       -1.726         1       1  Cumings, Mrs. John Bradley (Florence Briggs Th...  female  0.664      1      0          PC 17599  0.787        C\n",
       "2       -1.722         1       3                             Heikkinen, Miss. Laina  female -0.258      0      0  STON/O2. 3101282 -0.489        S\n",
       "3       -1.718         1       1       Futrelle, Mrs. Jacques Heath (Lily May Peel)  female  0.433      1      0            113803  0.421        S\n",
       "4       -1.715         0       3                           Allen, Mr. William Henry    male  0.433      0      0            373450 -0.486        S"
      ]
     },
     "execution_count": 26,
     "metadata": {},
     "output_type": "execute_result"
    }
   ],
   "source": [
    "scaler = StandardScaler()\n",
    "df[num_cols] = scaler.fit_transform(df[num_cols])\n",
    "df.head()"
   ]
  },
  {
   "cell_type": "code",
   "execution_count": 27,
   "id": "5341d935",
   "metadata": {
    "execution": {
     "iopub.execute_input": "2023-03-21T19:38:00.924899Z",
     "iopub.status.busy": "2023-03-21T19:38:00.924474Z",
     "iopub.status.idle": "2023-03-21T19:38:00.931011Z",
     "shell.execute_reply": "2023-03-21T19:38:00.930048Z"
    },
    "papermill": {
     "duration": 0.026752,
     "end_time": "2023-03-21T19:38:00.933326",
     "exception": false,
     "start_time": "2023-03-21T19:38:00.906574",
     "status": "completed"
    },
    "tags": []
   },
   "outputs": [],
   "source": [
    "df.drop(['Name','Ticket'], axis = 1, inplace = True)"
   ]
  },
  {
   "cell_type": "code",
   "execution_count": 28,
   "id": "d29a33e6",
   "metadata": {
    "execution": {
     "iopub.execute_input": "2023-03-21T19:38:00.968160Z",
     "iopub.status.busy": "2023-03-21T19:38:00.967180Z",
     "iopub.status.idle": "2023-03-21T19:38:00.973135Z",
     "shell.execute_reply": "2023-03-21T19:38:00.972249Z"
    },
    "papermill": {
     "duration": 0.025953,
     "end_time": "2023-03-21T19:38:00.975500",
     "exception": false,
     "start_time": "2023-03-21T19:38:00.949547",
     "status": "completed"
    },
    "tags": []
   },
   "outputs": [],
   "source": [
    "def outlier_thresholds(dataframe, col_name, q1=0.05, q3=0.95):\n",
    "    quartile1 = dataframe[col_name].quantile(q1)\n",
    "    quartile3 = dataframe[col_name].quantile(q3)\n",
    "    interquantile_range = quartile3 - quartile1\n",
    "    up_limit = quartile3 + 1.5 * interquantile_range\n",
    "    low_limit = quartile1 - 1.5 * interquantile_range\n",
    "    return low_limit, up_limit"
   ]
  },
  {
   "cell_type": "code",
   "execution_count": 29,
   "id": "f180ee03",
   "metadata": {
    "execution": {
     "iopub.execute_input": "2023-03-21T19:38:01.010344Z",
     "iopub.status.busy": "2023-03-21T19:38:01.009368Z",
     "iopub.status.idle": "2023-03-21T19:38:01.016256Z",
     "shell.execute_reply": "2023-03-21T19:38:01.015002Z"
    },
    "papermill": {
     "duration": 0.027348,
     "end_time": "2023-03-21T19:38:01.019074",
     "exception": false,
     "start_time": "2023-03-21T19:38:00.991726",
     "status": "completed"
    },
    "tags": []
   },
   "outputs": [],
   "source": [
    "def check_outlier(dataframe, col_name):\n",
    "    low_limit, up_limit = outlier_thresholds(dataframe, col_name)\n",
    "    if dataframe[(dataframe[col_name] > up_limit) | (dataframe[col_name] < low_limit)].any(axis=None):\n",
    "        return True\n",
    "    else:\n",
    "        return False"
   ]
  },
  {
   "cell_type": "code",
   "execution_count": 30,
   "id": "239b0713",
   "metadata": {
    "execution": {
     "iopub.execute_input": "2023-03-21T19:38:01.053502Z",
     "iopub.status.busy": "2023-03-21T19:38:01.053121Z",
     "iopub.status.idle": "2023-03-21T19:38:01.071516Z",
     "shell.execute_reply": "2023-03-21T19:38:01.070299Z"
    },
    "papermill": {
     "duration": 0.039359,
     "end_time": "2023-03-21T19:38:01.074821",
     "exception": false,
     "start_time": "2023-03-21T19:38:01.035462",
     "status": "completed"
    },
    "tags": []
   },
   "outputs": [
    {
     "name": "stdout",
     "output_type": "stream",
     "text": [
      "False\n",
      "False\n",
      "True\n"
     ]
    }
   ],
   "source": [
    "for col in num_cols:\n",
    "    print(check_outlier(df,col))"
   ]
  },
  {
   "cell_type": "code",
   "execution_count": 31,
   "id": "f8b77c4d",
   "metadata": {
    "execution": {
     "iopub.execute_input": "2023-03-21T19:38:01.110147Z",
     "iopub.status.busy": "2023-03-21T19:38:01.109478Z",
     "iopub.status.idle": "2023-03-21T19:38:01.116588Z",
     "shell.execute_reply": "2023-03-21T19:38:01.115294Z"
    },
    "papermill": {
     "duration": 0.02731,
     "end_time": "2023-03-21T19:38:01.119249",
     "exception": false,
     "start_time": "2023-03-21T19:38:01.091939",
     "status": "completed"
    },
    "tags": []
   },
   "outputs": [],
   "source": [
    "def replace_with_thresholds(dataframe, variable, q1=0.05, q3=0.95):\n",
    "    low_limit, up_limit = outlier_thresholds(dataframe, variable, q1=0.05, q3=0.95)\n",
    "    dataframe.loc[(dataframe[variable] < low_limit), variable] = low_limit\n",
    "    dataframe.loc[(dataframe[variable] > up_limit), variable] = up_limit"
   ]
  },
  {
   "cell_type": "code",
   "execution_count": 32,
   "id": "6b1a6362",
   "metadata": {
    "execution": {
     "iopub.execute_input": "2023-03-21T19:38:01.154361Z",
     "iopub.status.busy": "2023-03-21T19:38:01.153917Z",
     "iopub.status.idle": "2023-03-21T19:38:01.168128Z",
     "shell.execute_reply": "2023-03-21T19:38:01.166790Z"
    },
    "papermill": {
     "duration": 0.034949,
     "end_time": "2023-03-21T19:38:01.170815",
     "exception": false,
     "start_time": "2023-03-21T19:38:01.135866",
     "status": "completed"
    },
    "tags": []
   },
   "outputs": [],
   "source": [
    "for col in num_cols: \n",
    "    replace_with_thresholds(df,col,0.05,0.95)"
   ]
  },
  {
   "cell_type": "code",
   "execution_count": 33,
   "id": "ca9488b5",
   "metadata": {
    "execution": {
     "iopub.execute_input": "2023-03-21T19:38:01.206100Z",
     "iopub.status.busy": "2023-03-21T19:38:01.205689Z",
     "iopub.status.idle": "2023-03-21T19:38:01.222891Z",
     "shell.execute_reply": "2023-03-21T19:38:01.221419Z"
    },
    "papermill": {
     "duration": 0.037853,
     "end_time": "2023-03-21T19:38:01.225444",
     "exception": false,
     "start_time": "2023-03-21T19:38:01.187591",
     "status": "completed"
    },
    "tags": []
   },
   "outputs": [
    {
     "name": "stdout",
     "output_type": "stream",
     "text": [
      "False\n",
      "False\n",
      "False\n"
     ]
    }
   ],
   "source": [
    "for col in num_cols:\n",
    "    print(check_outlier(df,col))"
   ]
  },
  {
   "cell_type": "code",
   "execution_count": 34,
   "id": "aeecf57a",
   "metadata": {
    "execution": {
     "iopub.execute_input": "2023-03-21T19:38:01.260269Z",
     "iopub.status.busy": "2023-03-21T19:38:01.259799Z",
     "iopub.status.idle": "2023-03-21T19:38:01.279756Z",
     "shell.execute_reply": "2023-03-21T19:38:01.278380Z"
    },
    "papermill": {
     "duration": 0.040432,
     "end_time": "2023-03-21T19:38:01.282256",
     "exception": false,
     "start_time": "2023-03-21T19:38:01.241824",
     "status": "completed"
    },
    "tags": []
   },
   "outputs": [
    {
     "data": {
      "text/html": [
       "<div>\n",
       "<style scoped>\n",
       "    .dataframe tbody tr th:only-of-type {\n",
       "        vertical-align: middle;\n",
       "    }\n",
       "\n",
       "    .dataframe tbody tr th {\n",
       "        vertical-align: top;\n",
       "    }\n",
       "\n",
       "    .dataframe thead th {\n",
       "        text-align: right;\n",
       "    }\n",
       "</style>\n",
       "<table border=\"1\" class=\"dataframe\">\n",
       "  <thead>\n",
       "    <tr style=\"text-align: right;\">\n",
       "      <th></th>\n",
       "      <th>PassengerId</th>\n",
       "      <th>Survived</th>\n",
       "      <th>Pclass</th>\n",
       "      <th>Age</th>\n",
       "      <th>SibSp</th>\n",
       "      <th>Parch</th>\n",
       "      <th>Fare</th>\n",
       "      <th>Sex_male</th>\n",
       "      <th>Embarked_Q</th>\n",
       "      <th>Embarked_S</th>\n",
       "    </tr>\n",
       "  </thead>\n",
       "  <tbody>\n",
       "    <tr>\n",
       "      <th>0</th>\n",
       "      <td>-1.730</td>\n",
       "      <td>0</td>\n",
       "      <td>3</td>\n",
       "      <td>-0.566</td>\n",
       "      <td>1</td>\n",
       "      <td>0</td>\n",
       "      <td>-0.502</td>\n",
       "      <td>1</td>\n",
       "      <td>0</td>\n",
       "      <td>1</td>\n",
       "    </tr>\n",
       "    <tr>\n",
       "      <th>1</th>\n",
       "      <td>-1.726</td>\n",
       "      <td>1</td>\n",
       "      <td>1</td>\n",
       "      <td>0.664</td>\n",
       "      <td>1</td>\n",
       "      <td>0</td>\n",
       "      <td>0.787</td>\n",
       "      <td>0</td>\n",
       "      <td>0</td>\n",
       "      <td>0</td>\n",
       "    </tr>\n",
       "    <tr>\n",
       "      <th>2</th>\n",
       "      <td>-1.722</td>\n",
       "      <td>1</td>\n",
       "      <td>3</td>\n",
       "      <td>-0.258</td>\n",
       "      <td>0</td>\n",
       "      <td>0</td>\n",
       "      <td>-0.489</td>\n",
       "      <td>0</td>\n",
       "      <td>0</td>\n",
       "      <td>1</td>\n",
       "    </tr>\n",
       "    <tr>\n",
       "      <th>3</th>\n",
       "      <td>-1.718</td>\n",
       "      <td>1</td>\n",
       "      <td>1</td>\n",
       "      <td>0.433</td>\n",
       "      <td>1</td>\n",
       "      <td>0</td>\n",
       "      <td>0.421</td>\n",
       "      <td>0</td>\n",
       "      <td>0</td>\n",
       "      <td>1</td>\n",
       "    </tr>\n",
       "    <tr>\n",
       "      <th>4</th>\n",
       "      <td>-1.715</td>\n",
       "      <td>0</td>\n",
       "      <td>3</td>\n",
       "      <td>0.433</td>\n",
       "      <td>0</td>\n",
       "      <td>0</td>\n",
       "      <td>-0.486</td>\n",
       "      <td>1</td>\n",
       "      <td>0</td>\n",
       "      <td>1</td>\n",
       "    </tr>\n",
       "  </tbody>\n",
       "</table>\n",
       "</div>"
      ],
      "text/plain": [
       "   PassengerId  Survived  Pclass    Age  SibSp  Parch   Fare  Sex_male  Embarked_Q  Embarked_S\n",
       "0       -1.730         0       3 -0.566      1      0 -0.502         1           0           1\n",
       "1       -1.726         1       1  0.664      1      0  0.787         0           0           0\n",
       "2       -1.722         1       3 -0.258      0      0 -0.489         0           0           1\n",
       "3       -1.718         1       1  0.433      1      0  0.421         0           0           1\n",
       "4       -1.715         0       3  0.433      0      0 -0.486         1           0           1"
      ]
     },
     "execution_count": 34,
     "metadata": {},
     "output_type": "execute_result"
    }
   ],
   "source": [
    "df = pd.get_dummies(df,drop_first=True) \n",
    "df.head()"
   ]
  },
  {
   "cell_type": "code",
   "execution_count": 35,
   "id": "86479e9d",
   "metadata": {
    "execution": {
     "iopub.execute_input": "2023-03-21T19:38:01.317556Z",
     "iopub.status.busy": "2023-03-21T19:38:01.317163Z",
     "iopub.status.idle": "2023-03-21T19:38:01.324899Z",
     "shell.execute_reply": "2023-03-21T19:38:01.323789Z"
    },
    "papermill": {
     "duration": 0.028473,
     "end_time": "2023-03-21T19:38:01.327617",
     "exception": false,
     "start_time": "2023-03-21T19:38:01.299144",
     "status": "completed"
    },
    "tags": []
   },
   "outputs": [],
   "source": [
    "df.drop(['PassengerId'], axis = 1, inplace = True)"
   ]
  },
  {
   "cell_type": "code",
   "execution_count": 36,
   "id": "335e60b0",
   "metadata": {
    "execution": {
     "iopub.execute_input": "2023-03-21T19:38:01.363057Z",
     "iopub.status.busy": "2023-03-21T19:38:01.362168Z",
     "iopub.status.idle": "2023-03-21T19:38:01.441802Z",
     "shell.execute_reply": "2023-03-21T19:38:01.440537Z"
    },
    "papermill": {
     "duration": 0.100278,
     "end_time": "2023-03-21T19:38:01.444606",
     "exception": false,
     "start_time": "2023-03-21T19:38:01.344328",
     "status": "completed"
    },
    "tags": []
   },
   "outputs": [],
   "source": [
    "from sklearn.model_selection import train_test_split\n",
    "from sklearn.metrics import accuracy_score, precision_score, recall_score, f1_score, roc_auc_score"
   ]
  },
  {
   "cell_type": "code",
   "execution_count": 37,
   "id": "7cd95879",
   "metadata": {
    "execution": {
     "iopub.execute_input": "2023-03-21T19:38:01.480291Z",
     "iopub.status.busy": "2023-03-21T19:38:01.479854Z",
     "iopub.status.idle": "2023-03-21T19:38:01.486934Z",
     "shell.execute_reply": "2023-03-21T19:38:01.485630Z"
    },
    "papermill": {
     "duration": 0.028012,
     "end_time": "2023-03-21T19:38:01.489437",
     "exception": false,
     "start_time": "2023-03-21T19:38:01.461425",
     "status": "completed"
    },
    "tags": []
   },
   "outputs": [],
   "source": [
    "y = df[\"Survived\"]\n",
    "X = df.drop(\"Survived\",axis=1) "
   ]
  },
  {
   "cell_type": "code",
   "execution_count": 38,
   "id": "b6a45092",
   "metadata": {
    "execution": {
     "iopub.execute_input": "2023-03-21T19:38:01.524590Z",
     "iopub.status.busy": "2023-03-21T19:38:01.524155Z",
     "iopub.status.idle": "2023-03-21T19:38:01.533660Z",
     "shell.execute_reply": "2023-03-21T19:38:01.532366Z"
    },
    "papermill": {
     "duration": 0.030074,
     "end_time": "2023-03-21T19:38:01.536243",
     "exception": false,
     "start_time": "2023-03-21T19:38:01.506169",
     "status": "completed"
    },
    "tags": []
   },
   "outputs": [],
   "source": [
    "X_train, X_test, y_train, y_test = train_test_split(X,y, test_size=0.20, random_state=17)"
   ]
  },
  {
   "cell_type": "code",
   "execution_count": 39,
   "id": "5f7250a5",
   "metadata": {
    "execution": {
     "iopub.execute_input": "2023-03-21T19:38:01.571319Z",
     "iopub.status.busy": "2023-03-21T19:38:01.570885Z",
     "iopub.status.idle": "2023-03-21T19:38:01.578055Z",
     "shell.execute_reply": "2023-03-21T19:38:01.576656Z"
    },
    "papermill": {
     "duration": 0.027645,
     "end_time": "2023-03-21T19:38:01.580629",
     "exception": false,
     "start_time": "2023-03-21T19:38:01.552984",
     "status": "completed"
    },
    "tags": []
   },
   "outputs": [
    {
     "data": {
      "text/plain": [
       "(712, 8)"
      ]
     },
     "execution_count": 39,
     "metadata": {},
     "output_type": "execute_result"
    }
   ],
   "source": [
    "X_train.shape"
   ]
  },
  {
   "cell_type": "code",
   "execution_count": 40,
   "id": "19ddf20a",
   "metadata": {
    "execution": {
     "iopub.execute_input": "2023-03-21T19:38:01.616649Z",
     "iopub.status.busy": "2023-03-21T19:38:01.615745Z",
     "iopub.status.idle": "2023-03-21T19:38:01.623071Z",
     "shell.execute_reply": "2023-03-21T19:38:01.621637Z"
    },
    "papermill": {
     "duration": 0.027892,
     "end_time": "2023-03-21T19:38:01.625648",
     "exception": false,
     "start_time": "2023-03-21T19:38:01.597756",
     "status": "completed"
    },
    "tags": []
   },
   "outputs": [
    {
     "data": {
      "text/plain": [
       "(712,)"
      ]
     },
     "execution_count": 40,
     "metadata": {},
     "output_type": "execute_result"
    }
   ],
   "source": [
    "y_train.shape"
   ]
  },
  {
   "cell_type": "code",
   "execution_count": 41,
   "id": "6a74f275",
   "metadata": {
    "execution": {
     "iopub.execute_input": "2023-03-21T19:38:01.661453Z",
     "iopub.status.busy": "2023-03-21T19:38:01.661060Z",
     "iopub.status.idle": "2023-03-21T19:38:01.896467Z",
     "shell.execute_reply": "2023-03-21T19:38:01.895218Z"
    },
    "papermill": {
     "duration": 0.256717,
     "end_time": "2023-03-21T19:38:01.899203",
     "exception": false,
     "start_time": "2023-03-21T19:38:01.642486",
     "status": "completed"
    },
    "tags": []
   },
   "outputs": [],
   "source": [
    "from sklearn.linear_model import LogisticRegression "
   ]
  },
  {
   "cell_type": "code",
   "execution_count": 42,
   "id": "d657f64f",
   "metadata": {
    "execution": {
     "iopub.execute_input": "2023-03-21T19:38:01.936063Z",
     "iopub.status.busy": "2023-03-21T19:38:01.935626Z",
     "iopub.status.idle": "2023-03-21T19:38:01.956917Z",
     "shell.execute_reply": "2023-03-21T19:38:01.955578Z"
    },
    "papermill": {
     "duration": 0.043906,
     "end_time": "2023-03-21T19:38:01.960035",
     "exception": false,
     "start_time": "2023-03-21T19:38:01.916129",
     "status": "completed"
    },
    "tags": []
   },
   "outputs": [],
   "source": [
    "model = LogisticRegression().fit(X_train,y_train)"
   ]
  },
  {
   "cell_type": "code",
   "execution_count": 43,
   "id": "f07e4665",
   "metadata": {
    "execution": {
     "iopub.execute_input": "2023-03-21T19:38:01.995868Z",
     "iopub.status.busy": "2023-03-21T19:38:01.995431Z",
     "iopub.status.idle": "2023-03-21T19:38:02.002689Z",
     "shell.execute_reply": "2023-03-21T19:38:02.001453Z"
    },
    "papermill": {
     "duration": 0.028096,
     "end_time": "2023-03-21T19:38:02.005070",
     "exception": false,
     "start_time": "2023-03-21T19:38:01.976974",
     "status": "completed"
    },
    "tags": []
   },
   "outputs": [],
   "source": [
    "y_pred = model.predict(X_test)"
   ]
  },
  {
   "cell_type": "code",
   "execution_count": 44,
   "id": "ad13a21e",
   "metadata": {
    "execution": {
     "iopub.execute_input": "2023-03-21T19:38:02.040564Z",
     "iopub.status.busy": "2023-03-21T19:38:02.039956Z",
     "iopub.status.idle": "2023-03-21T19:38:02.051205Z",
     "shell.execute_reply": "2023-03-21T19:38:02.049740Z"
    },
    "papermill": {
     "duration": 0.031834,
     "end_time": "2023-03-21T19:38:02.053770",
     "exception": false,
     "start_time": "2023-03-21T19:38:02.021936",
     "status": "completed"
    },
    "tags": []
   },
   "outputs": [
    {
     "name": "stdout",
     "output_type": "stream",
     "text": [
      "Accuracy: 0.74\n",
      "Recall: 0.69\n",
      "Precision: 0.67\n",
      "F1: 0.68\n",
      "Auc: 0.73\n"
     ]
    }
   ],
   "source": [
    "print(f\"Accuracy: {round(accuracy_score(y_pred, y_test), 2)}\")\n",
    "print(f\"Recall: {round(recall_score(y_pred,y_test),2)}\")\n",
    "print(f\"Precision: {round(precision_score(y_pred,y_test), 2)}\")\n",
    "print(f\"F1: {round(f1_score(y_pred,y_test), 2)}\")\n",
    "print(f\"Auc: {round(roc_auc_score(y_pred,y_test), 2)}\")"
   ]
  },
  {
   "cell_type": "code",
   "execution_count": null,
   "id": "70293d88",
   "metadata": {
    "papermill": {
     "duration": 0.016929,
     "end_time": "2023-03-21T19:38:02.087526",
     "exception": false,
     "start_time": "2023-03-21T19:38:02.070597",
     "status": "completed"
    },
    "tags": []
   },
   "outputs": [],
   "source": []
  }
 ],
 "metadata": {
  "kernelspec": {
   "display_name": "Python 3",
   "language": "python",
   "name": "python3"
  },
  "language_info": {
   "codemirror_mode": {
    "name": "ipython",
    "version": 3
   },
   "file_extension": ".py",
   "mimetype": "text/x-python",
   "name": "python",
   "nbconvert_exporter": "python",
   "pygments_lexer": "ipython3",
   "version": "3.7.12"
  },
  "papermill": {
   "default_parameters": {},
   "duration": 17.504416,
   "end_time": "2023-03-21T19:38:02.827551",
   "environment_variables": {},
   "exception": null,
   "input_path": "__notebook__.ipynb",
   "output_path": "__notebook__.ipynb",
   "parameters": {},
   "start_time": "2023-03-21T19:37:45.323135",
   "version": "2.4.0"
  }
 },
 "nbformat": 4,
 "nbformat_minor": 5
}
